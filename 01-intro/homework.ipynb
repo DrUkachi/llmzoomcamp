{
 "cells": [
  {
   "cell_type": "code",
   "execution_count": 10,
   "id": "3f6aa4bd-471e-430f-b21b-639b21eff4a7",
   "metadata": {},
   "outputs": [
    {
     "name": "stdout",
     "output_type": "stream",
     "text": [
      "Sending a test completion job\n",
      "Write a tagline for a Church.?\n",
      "\n",
      "More Questions & Answers...\n",
      "\n",
      "Does anyone know where there is a vinyl sticker that says \"ballsy\" and has a pair of eyes?\n",
      "\n",
      "Nintendo Wii name.?\n",
      "\n",
      "Chassis number engraving- India?\n",
      "\n",
      "Need a new motto...?\n",
      "\n",
      "Which phrase is\n"
     ]
    }
   ],
   "source": [
    "import os\n",
    "from openai import AzureOpenAI\n",
    "    \n",
    "client = AzureOpenAI(\n",
    "    api_key=openai_api_key,  \n",
    "    api_version=\"2024-05-01-preview\",\n",
    "    azure_endpoint = endpoint\n",
    "    )\n",
    "    \n",
    "deployment_name=deployment #This will correspond to the custom name you chose for your deployment when you deployed a model. Use a gpt-35-turbo-instruct deployment. \n",
    "    \n",
    "# Send a completion call to generate an answer\n",
    "print('Sending a test completion job')\n",
    "start_phrase = 'Write a tagline for a Church.'\n",
    "response = client.completions.create(model=deployment_name, prompt=start_phrase, max_tokens=50)\n",
    "print(start_phrase+response.choices[0].text)"
   ]
  },
  {
   "cell_type": "code",
   "execution_count": 12,
   "id": "932d6b78",
   "metadata": {},
   "outputs": [],
   "source": [
    "response = client.chat.completions.create(\n",
    "    model = deployment_name,\n",
    "    messages=[{\"role\":\"user\", \"content\": \"is it too late to join the course?\"}]\n",
    ")"
   ]
  },
  {
   "cell_type": "code",
   "execution_count": 13,
   "id": "bfb5f8d6",
   "metadata": {},
   "outputs": [
    {
     "data": {
      "text/plain": [
       "'As an AI language model, I cannot provide specific information about which course you are referring to. However, you will need to contact the course provider or check the course website to find out about enrollment deadlines or if the course is still open for new students.  Generally, many courses have enrollment deadlines or have limited seats available. However, some courses may offer late enrollment or rolling enrollment options.'"
      ]
     },
     "execution_count": 13,
     "metadata": {},
     "output_type": "execute_result"
    }
   ],
   "source": [
    "response.choices[0].message.content"
   ]
  },
  {
   "cell_type": "code",
   "execution_count": null,
   "id": "26535c64",
   "metadata": {},
   "outputs": [],
   "source": [
    "os.environ"
   ]
  },
  {
   "cell_type": "code",
   "execution_count": 2,
   "id": "c2b7b7f1-ad02-4355-8cc8-d9fb3aa7e5b5",
   "metadata": {},
   "outputs": [],
   "source": []
  },
  {
   "cell_type": "code",
   "execution_count": null,
   "id": "bc7bba70-9138-4c75-a113-8ee2b0b82287",
   "metadata": {},
   "outputs": [],
   "source": []
  }
 ],
 "metadata": {
  "kernelspec": {
   "display_name": "Python 3 (ipykernel)",
   "language": "python",
   "name": "python3"
  },
  "language_info": {
   "codemirror_mode": {
    "name": "ipython",
    "version": 3
   },
   "file_extension": ".py",
   "mimetype": "text/x-python",
   "name": "python",
   "nbconvert_exporter": "python",
   "pygments_lexer": "ipython3",
   "version": "3.10.13"
  }
 },
 "nbformat": 4,
 "nbformat_minor": 5
}
